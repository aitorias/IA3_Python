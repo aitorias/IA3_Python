{
 "cells": [
  {
   "cell_type": "markdown",
   "id": "fd4cfa6a",
   "metadata": {},
   "source": [
    "# Ejercicios de bucles"
   ]
  },
  {
   "cell_type": "markdown",
   "id": "ef6a6ba8",
   "metadata": {},
   "source": [
    "## Ejercicio 1"
   ]
  },
  {
   "cell_type": "markdown",
   "id": "d9f95faf",
   "metadata": {},
   "source": [
    "Escribir un programa que pida al usuario una palabra y la muestre por pantalla 10\n",
    "veces."
   ]
  },
  {
   "cell_type": "code",
   "execution_count": null,
   "id": "a5a2b412",
   "metadata": {},
   "outputs": [],
   "source": [
    "word = input('Introduce una palabra y se mostrará 10 veces por pantalla: ')\n",
    "for _ in range(10):\n",
    "    print(word)"
   ]
  },
  {
   "cell_type": "markdown",
   "id": "e6dde960",
   "metadata": {},
   "source": [
    "## Ejercicio 2"
   ]
  },
  {
   "cell_type": "markdown",
   "id": "3310e7d6",
   "metadata": {},
   "source": [
    "Escribir un programa que pregunte al usuario su edad y muestre por pantalla todos los\n",
    "años que ha cumplido (desde 1 hasta su edad)."
   ]
  },
  {
   "cell_type": "code",
   "execution_count": null,
   "id": "02f65d0d",
   "metadata": {},
   "outputs": [],
   "source": [
    "age = int(input('Introduce tu edad:'))\n",
    "print(f'Has cumplido los siguientes años:')\n",
    "for i in range(age):\n",
    "    print(i + 1)"
   ]
  },
  {
   "cell_type": "markdown",
   "id": "c6cfe6b5",
   "metadata": {},
   "source": [
    "## Ejercicio 3"
   ]
  },
  {
   "cell_type": "markdown",
   "id": "61af34e3",
   "metadata": {},
   "source": [
    "Escribir un programa que pida al usuario un número entero positivo y muestre por pantalla todos los números impares desde 1 hasta ese número separados por comas."
   ]
  },
  {
   "cell_type": "code",
   "execution_count": null,
   "id": "0595d225",
   "metadata": {},
   "outputs": [],
   "source": [
    "number = abs(int(input('Introduce un número entero positivo: ')))\n",
    "print(f'Los números impares desde 1 hasta tu número {number} son: '\n",
    "      f'{\", \".join([str(i) for i in range(1, number + 1) if i % 2 != 0])}')"
   ]
  },
  {
   "cell_type": "markdown",
   "id": "b84e2db2",
   "metadata": {},
   "source": [
    "## Ejercicio 4"
   ]
  },
  {
   "cell_type": "markdown",
   "id": "9100ce83",
   "metadata": {},
   "source": [
    "Escribir un programa que pida al usuario un número entero positivo y muestre por pantalla la cuenta atrás desde ese número hasta cero separados por comas."
   ]
  },
  {
   "cell_type": "code",
   "execution_count": null,
   "id": "3f289297",
   "metadata": {},
   "outputs": [],
   "source": [
    "number = abs(int(input('Introduce un número entero positivo: ')))\n",
    "print(f'Cuenta atrás desde {number} hasta 0: {\", \".join(str(i) for i in range(number, -1, -1))}')"
   ]
  },
  {
   "cell_type": "markdown",
   "id": "3671f4a0",
   "metadata": {},
   "source": [
    "## Ejercicio 5"
   ]
  },
  {
   "cell_type": "markdown",
   "id": "f8ce27f6",
   "metadata": {},
   "source": [
    "Escribir un programa que pregunte al usuario una cantidad a invertir, el interés anual y el número de años, y muestre por pantalla el capital obtenido en la inversión cada año que dura la inversión."
   ]
  },
  {
   "cell_type": "code",
   "execution_count": null,
   "id": "b902a60e",
   "metadata": {},
   "outputs": [],
   "source": [
    "invest = float(input('Introduce una cantidad a invertir: '))\n",
    "annual_interest = int(input('Introduce el interés anual: '))\n",
    "years = int(input('Introduce el número de años: '))\n",
    "print(f'Capital obtenido estos {years} años:')\n",
    "for year in range(1, years + 1):\n",
    "    print(f'El capital obtenido el año {year} es de: {invest * (1 + annual_interest / 100) ** year:.2f}€')"
   ]
  },
  {
   "cell_type": "markdown",
   "id": "6f4110b6",
   "metadata": {},
   "source": [
    "## Ejercicio 6"
   ]
  },
  {
   "cell_type": "markdown",
   "id": "009780cc",
   "metadata": {},
   "source": [
    "Escribir un programa que pida al usuario un número entero y muestre por pantalla un\n",
    "triángulo rectángulo como el de más abajo, de altura el número introducido.\n",
    "\n",
    "\\*<br>\n",
    "\\*\\*<br>\n",
    "\\*\\*\\*<br>\n",
    "\\*\\*\\*\\*<br>\n",
    "\\*\\*\\*\\*\\*"
   ]
  },
  {
   "cell_type": "code",
   "execution_count": null,
   "id": "fd65ac4c",
   "metadata": {},
   "outputs": [],
   "source": [
    "number = abs(int(input('Introduce un número. Crearemos un triángulo rectángulo de altura el número introducido: ')))\n",
    "for i in range(1, number + 1):\n",
    "    print(\"*\" * i)"
   ]
  },
  {
   "cell_type": "markdown",
   "id": "eb305897",
   "metadata": {},
   "source": [
    "## Ejercicio 7"
   ]
  },
  {
   "cell_type": "markdown",
   "id": "911312a3",
   "metadata": {},
   "source": [
    "Escribir un programa que muestre por pantalla la tabla de multiplicar del 1 al 10."
   ]
  },
  {
   "cell_type": "code",
   "execution_count": null,
   "id": "6f19d9cd",
   "metadata": {},
   "outputs": [],
   "source": [
    "for i in range(1,11):\n",
    "    print(f'------------\\n'\n",
    "          f'Tabla del {i}\\n'\n",
    "          f'------------')\n",
    "    for j in range(1,11):\n",
    "        print(f'{i} x {j} = {i * j}')"
   ]
  },
  {
   "cell_type": "markdown",
   "id": "edce700e",
   "metadata": {},
   "source": [
    "## Ejercicio 8"
   ]
  },
  {
   "cell_type": "markdown",
   "id": "715e51a8",
   "metadata": {},
   "source": [
    "Escribir un programa que pida al usuario un número entero y muestre por pantalla un triángulo rectángulo como el de más abajo.\n",
    "\n",
    "1<br>\n",
    "3 1<br>\n",
    "5 3 1<br>\n",
    "7 5 3 1<br>\n",
    "9 7 5 3 1"
   ]
  },
  {
   "cell_type": "code",
   "execution_count": null,
   "id": "eef46bff",
   "metadata": {},
   "outputs": [],
   "source": [
    "number = abs(int(input('Introduce un número entero. Crearemos un triángulo rectángulo con él: ')))\n",
    "for i in range(1, number + 1, 2):\n",
    "    for j in range(i, 0, -2):\n",
    "        print(f'{i}')"
   ]
  },
  {
   "cell_type": "markdown",
   "id": "3a6a04fc",
   "metadata": {},
   "source": [
    "## Ejercicio 9"
   ]
  },
  {
   "cell_type": "markdown",
   "id": "302591df",
   "metadata": {},
   "source": [
    "Escribir un programa que almacene la cadena de caracteres contraseña en una variable, pregunte al usuario por la contraseña hasta que introduzca la contraseña correcta."
   ]
  },
  {
   "cell_type": "code",
   "execution_count": null,
   "id": "15dd6d85",
   "metadata": {},
   "outputs": [],
   "source": [
    "password = 'contraseña'\n",
    "while user_password := input('Introduce tu contraseña: ').lower() != password:\n",
    "        print(f'Contraseña incorrecta. Inténtalo de nuevo.')\n",
    "print(f'¡Has introducido tu contraseña correctamente!')"
   ]
  },
  {
   "cell_type": "markdown",
   "id": "c16c0bd9",
   "metadata": {},
   "source": [
    "## Ejercicio 10"
   ]
  },
  {
   "cell_type": "markdown",
   "id": "a843fe55",
   "metadata": {},
   "source": [
    "Escribir un programa que pida al usuario un número entero y muestre por pantalla si\n",
    "es un número primo o no."
   ]
  },
  {
   "cell_type": "code",
   "execution_count": null,
   "id": "21876e0a",
   "metadata": {},
   "outputs": [],
   "source": [
    "number = int(input('Introduce un número entero y te mostraremos si es un número primo o no: '))\n",
    "if number <= 1:\n",
    "    print(f'{number} no es un número primo')\n",
    "else:\n",
    "    for i in range(2, number):\n",
    "        if number % i == 0:\n",
    "            break\n",
    "    print(f'{number} es un número primo') if (i + 1) == number else print(f'{number} no es un número primo')"
   ]
  },
  {
   "cell_type": "markdown",
   "id": "62ec1b99",
   "metadata": {},
   "source": [
    "## Ejercicio 11"
   ]
  },
  {
   "cell_type": "markdown",
   "id": "bf289879",
   "metadata": {},
   "source": [
    "Escribir un programa que pida al usuario una palabra y luego muestre por pantalla una a una las letras de la palabra introducida empezando por la última."
   ]
  },
  {
   "cell_type": "code",
   "execution_count": 2,
   "id": "882e3331",
   "metadata": {},
   "outputs": [
    {
     "name": "stdout",
     "output_type": "stream",
     "text": [
      "Introduce una palabra. Mostraremos todas las letrs empezando por la última: test\n",
      "t\n",
      "s\n",
      "e\n",
      "t\n"
     ]
    }
   ],
   "source": [
    "word = input('Introduce una palabra. Mostraremos todas las letrs empezando por la última: ')\n",
    "for letter in word[::-1]:\n",
    "    print(letter)"
   ]
  },
  {
   "cell_type": "markdown",
   "id": "a2f7f3d8",
   "metadata": {},
   "source": [
    "## Ejercicio 12"
   ]
  },
  {
   "cell_type": "markdown",
   "id": "390f15a4",
   "metadata": {},
   "source": [
    "Escribir un programa en el que se pregunte al usuario por una frase y una letra, y muestre por pantalla el número de veces que aparece la letra en la frase."
   ]
  },
  {
   "cell_type": "code",
   "execution_count": 10,
   "id": "6ca0f6c7",
   "metadata": {},
   "outputs": [
    {
     "name": "stdout",
     "output_type": "stream",
     "text": [
      "Introduce un frase: test tetetest hola\n",
      "Introduce una letra: a\n",
      "La letra a aparece 1 vez/veces\n"
     ]
    }
   ],
   "source": [
    "sentence = input('Introduce un frase: ').lower()\n",
    "user_letter = input('Introduce una letra: ').lower()\n",
    "counter = 0\n",
    "for letter in sentence:\n",
    "    if user_letter == letter:\n",
    "        counter += 1\n",
    "print(f'La letra {user_letter} aparece {counter} vez/veces')"
   ]
  },
  {
   "cell_type": "markdown",
   "id": "ac7fed8a",
   "metadata": {},
   "source": [
    "## Ejercicio 13"
   ]
  },
  {
   "cell_type": "markdown",
   "id": "e1be4c53",
   "metadata": {},
   "source": [
    "Escribir un programa que muestre el eco de todo lo que el usuario introduzca hasta que el usuario escriba “salir” que terminará."
   ]
  },
  {
   "cell_type": "code",
   "execution_count": null,
   "id": "a24e8898",
   "metadata": {},
   "outputs": [],
   "source": []
  }
 ],
 "metadata": {
  "kernelspec": {
   "display_name": "Python 3 (ipykernel)",
   "language": "python",
   "name": "python3"
  },
  "language_info": {
   "codemirror_mode": {
    "name": "ipython",
    "version": 3
   },
   "file_extension": ".py",
   "mimetype": "text/x-python",
   "name": "python",
   "nbconvert_exporter": "python",
   "pygments_lexer": "ipython3",
   "version": "3.11.4"
  }
 },
 "nbformat": 4,
 "nbformat_minor": 5
}
