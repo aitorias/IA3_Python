{
 "cells": [
  {
   "cell_type": "markdown",
   "id": "4e0bbc32",
   "metadata": {},
   "source": [
    "# Ejercicios de Condicionales"
   ]
  },
  {
   "cell_type": "markdown",
   "id": "301128e0",
   "metadata": {},
   "source": [
    "## Ejercicio 1"
   ]
  },
  {
   "cell_type": "markdown",
   "id": "9da977d6",
   "metadata": {},
   "source": [
    "Escribir un programa que pregunte al usuario su edad y muestre por pantalla si es\n",
    "mayor de edad o no."
   ]
  },
  {
   "cell_type": "code",
   "execution_count": null,
   "id": "8ed8e9fb",
   "metadata": {},
   "outputs": [],
   "source": [
    "user_age = int(input('Introduce tu edad: '))\n",
    "print(f'Tienes {user_age} años. Eres mayor de edad.') if user_age >= 18 else print(f'Tienes {user_age} años. Eres menor de edad.')"
   ]
  },
  {
   "cell_type": "markdown",
   "id": "fcb87b70",
   "metadata": {},
   "source": [
    "## Ejercicio 2"
   ]
  },
  {
   "cell_type": "markdown",
   "id": "5efb748f",
   "metadata": {},
   "source": [
    "Escribir un programa que almacene la cadena de caracteres contraseña en una\n",
    "variable, pregunte al usuario por la contraseña e imprima por pantalla si la contraseña\n",
    "introducida por el usuario coincide con la guardada en la variable sin tener en cuenta\n",
    "mayúsculas y minúsculas."
   ]
  },
  {
   "cell_type": "code",
   "execution_count": null,
   "id": "85f6ed02",
   "metadata": {},
   "outputs": [],
   "source": [
    "password = 'abcd'\n",
    "user_password = input('Introduce tu contraseña:')\n",
    "print(f'¡Tu contraseña es correcta!') if user_password.lower() == PASSWORD.lower() \\\n",
    "else print(f'Tu contraseña es incorrecta.')"
   ]
  },
  {
   "cell_type": "markdown",
   "id": "70df9183",
   "metadata": {},
   "source": [
    "## Ejercicio 3"
   ]
  },
  {
   "cell_type": "markdown",
   "id": "7ec31cf5",
   "metadata": {},
   "source": [
    "Escribir un programa que pida al usuario dos números y muestre por pantalla su\n",
    "división. Si el divisor es cero el programa debe mostrar un error."
   ]
  },
  {
   "cell_type": "code",
   "execution_count": null,
   "id": "f23b6754",
   "metadata": {},
   "outputs": [],
   "source": [
    "first_number = float(input('Dime un número:'))\n",
    "second_number = float(input('Dime otro número:'))\n",
    "print(f'{first_number} entre {second_number} es: {(first_number / second_number):.2f}') \\\n",
    "if second_number != 0 else print(f'Error. Tu divisor no puede ser 0')"
   ]
  },
  {
   "cell_type": "markdown",
   "id": "c068af3f",
   "metadata": {},
   "source": [
    "## Ejercicio 4"
   ]
  },
  {
   "cell_type": "markdown",
   "id": "dce0c2ce",
   "metadata": {},
   "source": [
    "Escribir un programa que pida al usuario un número entero y muestre por pantalla si\n",
    "es par o impar."
   ]
  },
  {
   "cell_type": "code",
   "execution_count": null,
   "id": "88878393",
   "metadata": {},
   "outputs": [],
   "source": [
    "int_number = int(input('Dime un número entero:'))\n",
    "print(f'{int_number} es un número par') if int_number % 2 == 0 else print(f'{int_number} es un número impar.')"
   ]
  },
  {
   "cell_type": "markdown",
   "id": "89c3ccd6",
   "metadata": {},
   "source": [
    "## Ejercicio 5"
   ]
  },
  {
   "cell_type": "markdown",
   "id": "d0cc69a7",
   "metadata": {},
   "source": [
    "Para tributar un determinado impuesto se debe ser mayor de 16 años y tener unos\n",
    "ingresos iguales o superiores a 1000 € mensuales. Escribir un programa que pregunte\n",
    "al usuario su edad y sus ingresos mensuales y muestre por pantalla si el usuario tiene\n",
    "que tributar o no."
   ]
  },
  {
   "cell_type": "code",
   "execution_count": null,
   "id": "d48c9802",
   "metadata": {},
   "outputs": [],
   "source": [
    "user_age = int(input('Introduce tu edad: '))\n",
    "if user_age >= 16:\n",
    "    user_incomes = float(input('Introduce tus ingresos mensuales: '))\n",
    "    print(f'Aún teniendo 16 años, tus ingresos son menor a 1000€ al mes. No debes tributar') if user_incomes < 1000 \\\n",
    "    else print(f'Tu edad es {user_age} y tus ingresos mensuales son {user_incomes:.2f}€, por lo tanto, debes tributar.')\n",
    "else:\n",
    "    print(f'Eres menor de 16 años. No debes tributar.')\n"
   ]
  },
  {
   "cell_type": "markdown",
   "id": "1613a62b",
   "metadata": {},
   "source": [
    "## Ejercicio 6"
   ]
  },
  {
   "cell_type": "markdown",
   "id": "29c45b49",
   "metadata": {},
   "source": [
    "Los alumnos de un curso se han dividido en dos grupos A y B de acuerdo al sexo y el\n",
    "nombre. El grupo A esta formado por las mujeres con un nombre anterior a la M y los\n",
    "hombres con un nombre posterior a la N y el grupo B por el resto. Escribir un programa\n",
    "que pregunte al usuario su nombre y sexo, y muestre por pantalla el grupo que le\n",
    "corresponde."
   ]
  },
  {
   "cell_type": "code",
   "execution_count": null,
   "id": "d2a4f019",
   "metadata": {},
   "outputs": [],
   "source": [
    "user_name = input('Introduce tu nombre: ').upper()\n",
    "user_sex = input('Introduce tu género: ').lower()\n",
    "male = ('hombre', 'masculino')\n",
    "female = ('mujer', 'femenino')\n",
    "print(f'Perteneces al grupo A.') if (user_sex in female and user_name[0] <= 'M') \\\n",
    "or (user_sex in male and user_name[0] >= 'N') else print(f'Perteneces al grupo B.')"
   ]
  },
  {
   "cell_type": "markdown",
   "id": "f49e8383",
   "metadata": {},
   "source": [
    "## Ejercicio 7"
   ]
  },
  {
   "cell_type": "markdown",
   "id": "d35ca63d",
   "metadata": {},
   "source": [
    "Los tramos impositivos para la declaración de la renta en un determinado país son los\n",
    "siguientes:\n",
    "\n",
    "|         Renta         | Tipo impositivo |\n",
    "|:---------------------:|:---------------:|\n",
    "| Menos de 10000€       |        5%       |\n",
    "| Entre 10000€ y 20000€ |       15%       |\n",
    "| Entre 20000€ y 35000€ |       20%       |\n",
    "| Entre 35000€ y 60000€ |       30%       |\n",
    "| Más de 60000€         |       45%       |\n",
    "\n",
    "Escribir un programa que pregunte al usuario su renta anual y muestre por pantalla el\n",
    "tipo impositivo que le corresponde."
   ]
  },
  {
   "cell_type": "code",
   "execution_count": null,
   "id": "03dafa08",
   "metadata": {},
   "outputs": [],
   "source": [
    "annual_rent = float(input('Introduce tu renta anual: '))\n",
    "if annual_rent <= 10000:\n",
    "    print(f'Tu tipo impositivo es del 5%')\n",
    "elif 10000 <= annual_rent <= 20000:\n",
    "    print(f'Tu tipo impositivo es del 15%')\n",
    "elif 200000 <= annual_rent <= 35000:\n",
    "    print(f'Tu tipo impositivo es del 20%')\n",
    "elif 35000 <= annual_rent <= 60000:\n",
    "    print(f'Tu tipo impositivo es del 30%')\n",
    "else:\n",
    "    print(f'Tu tipo impositivo es del 45%')"
   ]
  },
  {
   "cell_type": "markdown",
   "id": "2c66cab6",
   "metadata": {},
   "source": [
    "## Ejercicio 8"
   ]
  },
  {
   "cell_type": "markdown",
   "id": "b0df271c",
   "metadata": {},
   "source": [
    "En una determinada empresa, sus empleados son evaluados al final de cada año. Los\n",
    "puntos que pueden obtener en la evaluación comienzan en 0.0 y pueden ir\n",
    "aumentando, traduciéndose en mejores beneficios. Los puntos que pueden conseguir\n",
    "los empleados pueden ser 0.0, 0.4, 0.6 o más, pero no valores intermedios entre las\n",
    "cifras mencionadas. A continuación se muestra una tabla con los niveles\n",
    "correspondientes a cada puntuación. La cantidad de dinero conseguida en cada nivel\n",
    "es de 2.400€ multiplicada por la puntuación del nivel.\n",
    "\n",
    "|    Nivel    | Puntuación |\n",
    "|:-----------:|:----------:|\n",
    "| Inaceptable |     0.0    |\n",
    "|  Aceptable  |     0.4    |\n",
    "|  Meritorio  |  0.6 o más |\n",
    "\n",
    "Escribir un programa que lea la puntuación del usuario e indique su nivel de\n",
    "rendimiento, así como la cantidad de dinero que recibirá el usuario."
   ]
  },
  {
   "cell_type": "code",
   "execution_count": null,
   "id": "b8337cc0",
   "metadata": {},
   "outputs": [],
   "source": [
    "prize = 2400\n",
    "scores = ('Inaceptable', 'Aceptable', 'Meritorio')\n",
    "user_score = float(input('Introduce tu puntuación: '))\n",
    "if user_score == 0:\n",
    "    print(f'Tu nivel de rendimiento es: {scores[0]}. El dinero que recibirás es {user_score * prize}€')\n",
    "elif user_score == 0.4:\n",
    "    print(f'Tu nivel de rendimiento es: {scores[1]}. El dinero que recibirás es {user_score * prize}€')\n",
    "elif 1 >= user_score >= 0.6:\n",
    "    print(f'Tu nivel de rendimiento es: ¡{scores[2]}! El dinero que recibirás es {user_score * prize}€')\n",
    "else:\n",
    "    print(f'Tu puntuación no puede ser evaluada.')"
   ]
  },
  {
   "cell_type": "markdown",
   "id": "5c98dba7",
   "metadata": {},
   "source": [
    "## Ejercicio 9"
   ]
  },
  {
   "cell_type": "markdown",
   "id": "9e74e977",
   "metadata": {},
   "source": [
    "Escribir un programa para una empresa que tiene salas de juegos para todas las\n",
    "edades y quiere calcular de forma automática el precio que debe cobrar a sus clientes\n",
    "por entrar. El programa debe preguntar al usuario la edad del cliente y mostrar el\n",
    "precio de la entrada. Si el cliente es menor de 4 años puede entrar gratis, si tiene entre\n",
    "4 y 18 años debe pagar 5€ y si es mayor de 18 años, 10€."
   ]
  },
  {
   "cell_type": "code",
   "execution_count": null,
   "id": "f136fd09",
   "metadata": {},
   "outputs": [],
   "source": [
    "client_age = int(input('Introduce la edad del cliente: '))\n",
    "prices = ('gratis', 5, 10)\n",
    "if client_age < 4:\n",
    "    print(f'El cliente puede entrar {prices[0]}.')\n",
    "elif 4 <= client_age < 18:\n",
    "    print(f'El cliente debe pagar {prices[1]}€ de entrada.')\n",
    "else:\n",
    "    print(f'El cliente debe pagar {prices[2]}€ de entrada.')"
   ]
  },
  {
   "cell_type": "markdown",
   "id": "793891a8",
   "metadata": {},
   "source": [
    "## Ejercicio 10"
   ]
  },
  {
   "cell_type": "markdown",
   "id": "58d7339a",
   "metadata": {},
   "source": [
    "La pizzería Bella Napoli ofrece pizzas vegetarianas y no vegetarianas a sus clientes. Los\n",
    "ingredientes para cada tipo de pizza aparecen a continuación.\n",
    "\n",
    "- Ingredientes vegetarianos: Pimiento y tofu.\n",
    "- Ingredientes no vegetarianos: Peperoni, Jamón y Salmón\n",
    "    \n",
    "Escribir un programa que pregunte al usuario si quiere una pizza vegetariana o no, y en\n",
    "función de su respuesta le muestre un menú con los ingredientes disponibles para que\n",
    "elija. Solo se puede eligir un ingrediente además de la mozzarella y el tomate que\n",
    "están en todas la pizzas. Al final se debe mostrar por pantalla si la pizza elegida es\n",
    "vegetariana o no y todos los ingredientes que lleva."
   ]
  },
  {
   "cell_type": "code",
   "execution_count": null,
   "id": "e68c2eb7",
   "metadata": {},
   "outputs": [],
   "source": [
    "vegetables = ('Pimiento', 'Tofu')\n",
    "non_vegetables = ('Peperoni', 'Jamón', 'Salmón')\n",
    "user_pizza = input('¿Desea una pizza vegetariana? Escriba [S/N] ').lower()\n",
    "match user_pizza:\n",
    "    case 's':\n",
    "        print(f'Puede añadir uno de los siguientes ingredientes si lo desea (escriba el número del ingrediente): ')\n",
    "        for i, ingredient in enumerate(vegetables, start = 1):\n",
    "            print(f\"{i}. {ingredient}\")\n",
    "        user_ingredient = int(input(\"Seleccione un ingrediente (introduce el número): \")) - 1\n",
    "        if 0 <= user_ingredient < len(vegetables):\n",
    "            chosen_ingredient = vegetables[user_ingredient]\n",
    "            print(f'Ha seleccionado pizza vegetariana con los siguientes ingredientes:\\n'\\\n",
    "                  f'Mozzarella, Tomate y {chosen_ingredient}')\n",
    "        else:\n",
    "            print(f'Ha seleccionado pizza vegetariana sin ingredientes. Contiene:\\n'\\\n",
    "                  f'Mozzarella y Tomate')\n",
    "    case 'n':\n",
    "        print(f'Puede añadir uno de los siguientes ingredientes si lo desea (escriba el número del ingrediente): ')\n",
    "        for i, ingredient in enumerate(non_vegetables, start = 1):\n",
    "            print(f\"{i}. {ingredient}\")\n",
    "        user_ingredient = int(input(\"Seleccione un ingrediente (introduce el número): \")) - 1\n",
    "        if 0 <= user_ingredient < len(non_vegetables):\n",
    "            chosen_ingredient = non_vegetables[user_ingredient]\n",
    "            print(f'Ha seleccionado pizza con los siguientes ingredientes:\\n'\\\n",
    "                  f'Mozzarella, Tomate y {chosen_ingredient}')\n",
    "        else:\n",
    "            print(f'Ha seleccionado pizza sin ingredientes. Contiene:\\n'\\\n",
    "                  f'Mozzarella y Tomate')\n",
    "    case _:\n",
    "        print(f'No ha escrito correctamente la opción de la pizza. Pruebe de nuevo.')"
   ]
  }
 ],
 "metadata": {
  "kernelspec": {
   "display_name": "Python 3 (ipykernel)",
   "language": "python",
   "name": "python3"
  },
  "language_info": {
   "codemirror_mode": {
    "name": "ipython",
    "version": 3
   },
   "file_extension": ".py",
   "mimetype": "text/x-python",
   "name": "python",
   "nbconvert_exporter": "python",
   "pygments_lexer": "ipython3",
   "version": "3.11.4"
  }
 },
 "nbformat": 4,
 "nbformat_minor": 5
}
