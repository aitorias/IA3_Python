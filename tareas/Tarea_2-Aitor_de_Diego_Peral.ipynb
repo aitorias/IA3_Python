{
 "cells": [
  {
   "cell_type": "markdown",
   "id": "57a4650d",
   "metadata": {},
   "source": [
    "# Ejercicios de Cadenas"
   ]
  },
  {
   "cell_type": "markdown",
   "id": "2d7bdb0a",
   "metadata": {},
   "source": [
    "## Ejercicio 1"
   ]
  },
  {
   "cell_type": "markdown",
   "id": "8421986c",
   "metadata": {},
   "source": [
    "Escribir un programa que pregunte el nombre del usuario en la consola y un número\n",
    "entero e imprima por pantalla en líneas distintas el nombre del usuario tantas veces\n",
    "como el número introducido."
   ]
  },
  {
   "cell_type": "code",
   "execution_count": null,
   "id": "cf6b5a54",
   "metadata": {},
   "outputs": [],
   "source": [
    "user_name = input('Introduce tu nombre: ')\n",
    "user_number = int(input('Dime un número entero: '))\n",
    "print(f'{user_name}\\n' * user_number)"
   ]
  },
  {
   "cell_type": "markdown",
   "id": "fa35d8fa",
   "metadata": {},
   "source": [
    "## Ejercicio 2"
   ]
  },
  {
   "cell_type": "markdown",
   "id": "21398208",
   "metadata": {},
   "source": [
    "Escribir un programa que pregunte el nombre completo del usuario en la consola y\n",
    "después muestre por pantalla el nombre completo del usuario tres veces, una con\n",
    "todas las letras minúsculas, otra con todas las letras mayúsculas y otra solo con la\n",
    "primera letra del nombre y de los apellidos en mayúscula. El usuario puede introducir\n",
    "su nombre combinando mayúsculas y minúsculas como quiera."
   ]
  },
  {
   "cell_type": "code",
   "execution_count": null,
   "id": "a256b6b2",
   "metadata": {},
   "outputs": [],
   "source": [
    "user_full_name = input('Introduce tu nombre completo: ')\n",
    "print(f'Tu nombre en minúsculas: {user_full_name.lower()}\\n'\n",
    "      f'Tu nombre en mayúsuclas: {user_full_name.upper()}\\n'\n",
    "      f'Tu nombre con la primer letra del nombre y de los apellidos en mayúsculaa: {user_full_name.title()}')"
   ]
  },
  {
   "cell_type": "markdown",
   "id": "5c7cea47",
   "metadata": {},
   "source": [
    "## Ejercicio 3"
   ]
  },
  {
   "cell_type": "markdown",
   "id": "5ced57b1",
   "metadata": {},
   "source": [
    "Escribir un programa que pregunte el nombre del usuario en la consola y después de\n",
    "que el usuario lo introduzca muestre por pantalla \\<NOMBRE\\> tiene \\<n\\> letras,\n",
    "donde \\<NOMBRE\\> es el nombre de usuario en mayúsculas y <n> es el número de\n",
    "letras que tienen el nombre."
   ]
  },
  {
   "cell_type": "code",
   "execution_count": null,
   "id": "d1bf9fa7",
   "metadata": {},
   "outputs": [],
   "source": [
    "user_name = input('Introduce tu nombre: ').upper()\n",
    "print(f'{user_name} tiene {len(user_name)} letras')"
   ]
  },
  {
   "cell_type": "markdown",
   "id": "528de6c4",
   "metadata": {},
   "source": [
    "## Ejercicio 4"
   ]
  },
  {
   "cell_type": "markdown",
   "id": "3cd53d73",
   "metadata": {},
   "source": [
    "Los teléfonos de una empresa tienen el siguiente formato _prefijo-número-extension_ donde el prefijo es el código del país +34, y la extensión tiene dos dígitos\n",
    "(por ejemplo +34-913724710-56). Escribir un programa que pregunte por un número\n",
    "de teléfono con este formato y muestre por pantalla el número de teléfono sin el\n",
    "prefijo y la extensión."
   ]
  },
  {
   "cell_type": "code",
   "execution_count": null,
   "id": "61c20ee7",
   "metadata": {},
   "outputs": [],
   "source": [
    "user_phonenumber = input('Introduce tu número de teléfono con prefijo y extensión: (por ejemplo: +34-930000000-01) ')\n",
    "print(f'Tu número de teléfono sin prefijo ni extensión: {user_phonenumber.split(\"-\")[1]}')"
   ]
  },
  {
   "cell_type": "markdown",
   "id": "06421695",
   "metadata": {},
   "source": [
    "## Ejercicio 5"
   ]
  },
  {
   "cell_type": "markdown",
   "id": "c07c725e",
   "metadata": {},
   "source": [
    "Escribir un programa que pida al usuario que introduzca una frase en la consola y\n",
    "muestre por pantalla la frase invertida."
   ]
  },
  {
   "cell_type": "code",
   "execution_count": null,
   "id": "fe0c1118",
   "metadata": {},
   "outputs": [],
   "source": [
    "user_sentence = input('Introduce una frase: ')\n",
    "print(f'Tu frase al revés es: {user_sentence[::-1]}')"
   ]
  },
  {
   "cell_type": "markdown",
   "id": "01ea51c5",
   "metadata": {},
   "source": [
    "## Ejercicio 6"
   ]
  },
  {
   "cell_type": "markdown",
   "id": "fb1beef8",
   "metadata": {},
   "source": [
    "Escribir un programa que pida al usuario que introduzca una frase en la consola y una\n",
    "vocal, y después muestre por pantalla la misma frase pero con la vocal introducida en\n",
    "mayúscula."
   ]
  },
  {
   "cell_type": "code",
   "execution_count": null,
   "id": "1928c8a2",
   "metadata": {},
   "outputs": [],
   "source": [
    "user_sentence = input('Introduce una frase: ')\n",
    "user_vowel = input('Introduce una vocal: ').lower()\n",
    "if user_vowel not in 'aeiou':\n",
    "    print(f'No has introducido un vocal. Prueba de nuevo.')\n",
    "else:\n",
    "    print(f'La vocal {user_vowel} no aparece en tu frase. Prueba de nuevo a introducir una vocal.') \\\n",
    "    if user_vowel not in user_sentence else print(f'Frase modificada: {user_sentence.replace(user_vowel, user_vowel.upper())}')"
   ]
  },
  {
   "cell_type": "markdown",
   "id": "013e22bd",
   "metadata": {},
   "source": [
    "## Ejercicio 7"
   ]
  },
  {
   "cell_type": "markdown",
   "id": "def51687",
   "metadata": {},
   "source": [
    "Escribir un programa que pregunte el correo electrónico del usuario en la consola y\n",
    "muestre por pantalla otro correo electrónico con el mismo nombre (la parte delante\n",
    "de la arroba @) pero con dominio ceu.es."
   ]
  },
  {
   "cell_type": "code",
   "execution_count": null,
   "id": "b85df271",
   "metadata": {},
   "outputs": [],
   "source": [
    "user_email = input('Introduce tu correo electrónico: ').split(\"@\")\n",
    "print(f'Tu correo con dominio ceu.es es: {user_email[0]}@ceu.es')"
   ]
  },
  {
   "cell_type": "markdown",
   "id": "4783efd8",
   "metadata": {},
   "source": [
    "## Ejercicio 8"
   ]
  },
  {
   "cell_type": "markdown",
   "id": "c91c1b7a",
   "metadata": {},
   "source": [
    "Escribir un programa que pregunte por consola el precio de un producto en euros con\n",
    "dos decimales y muestre por pantalla el número de euros y el número de céntimos del\n",
    "precio introducido."
   ]
  },
  {
   "cell_type": "code",
   "execution_count": null,
   "id": "72e4f8d7",
   "metadata": {},
   "outputs": [],
   "source": [
    "product_price = round(float(input(\"Introduce el precio del producto en euros (con dos decimales): \")),2)\n",
    "euros,centimos = str(product_price).split(\".\")\n",
    "print(f'Número de euros: {euros}\\nNúmero de céntimos: {centimos}')"
   ]
  },
  {
   "cell_type": "markdown",
   "id": "c89cae9b",
   "metadata": {},
   "source": [
    "## Ejercicio 9"
   ]
  },
  {
   "cell_type": "markdown",
   "id": "1d4bedd8",
   "metadata": {},
   "source": [
    "Escribir un programa que pregunte al usuario la fecha de su nacimiento en\n",
    "formato dd/mm/aaaa y muestra por pantalla, el día, el mes y el año. Adaptar el\n",
    "programa anterior para que también funcione cuando el día o el mes se introduzcan\n",
    "con un solo carácter."
   ]
  },
  {
   "cell_type": "code",
   "execution_count": null,
   "id": "fee3b263",
   "metadata": {},
   "outputs": [],
   "source": [
    "user_birthdate = input('Introduce tu fecha de nacimiento siguiendo el formato dd/mm/aaaa: ').split(\"/\")\n",
    "if len(user_birthdate) != 3:\n",
    "    print(f'Formato de fecha no válido. Vuelve a introducir la fecha.')\n",
    "else:\n",
    "    if not user_birthdate[0].isdigit() or not user_birthdate[1].isdigit() or not user_birthdate[2].isdigit():\n",
    "        print(f'Los datos de la fecha no son números. Vuelve a introducir la fecha.')\n",
    "    else:\n",
    "        print(f'Día: {user_birthdate[0].rjust(2,\"0\")}\\n'\n",
    "                  f'Mes: {user_birthdate[1].rjust(2,\"0\")}\\n'\n",
    "                  f'Año: {user_birthdate[2]}') \\\n",
    "            if (1 <= int(user_birthdate[0]) <= 31) and (1 <= int(user_birthdate[1]) <= 12) \\\n",
    "            else print(f'La fecha no es válida. Vuelve a introducir la fecha.')"
   ]
  },
  {
   "cell_type": "markdown",
   "id": "258b45d0",
   "metadata": {},
   "source": [
    "## Ejercicio 10"
   ]
  },
  {
   "cell_type": "markdown",
   "id": "616509f8",
   "metadata": {},
   "source": [
    "Escribir un programa que pregunte por consola por los productos de una cesta de la\n",
    "compra, separados por comas, y muestre por pantalla cada uno de los productos en\n",
    "una línea distinta."
   ]
  },
  {
   "cell_type": "code",
   "execution_count": null,
   "id": "f8de513c",
   "metadata": {},
   "outputs": [],
   "source": [
    "products = input('Introduce los productos de la cesta separado por comas: ')\n",
    "print('\\n'.join([product.strip() for product in products.split(\",\")]))"
   ]
  },
  {
   "cell_type": "markdown",
   "id": "56887416",
   "metadata": {},
   "source": [
    "## Ejercicio 11"
   ]
  },
  {
   "cell_type": "markdown",
   "id": "617954f4",
   "metadata": {},
   "source": [
    "Escribir un programa que pregunte el nombre el un producto, su precio y un número\n",
    "de unidades y muestre por pantalla una cadena con el nombre del producto seguido\n",
    "de su precio unitario con 6 dígitos enteros y 2 decimales, el número de unidades con\n",
    "tres dígitos y el coste total con 8 dígitos enteros y 2 decimales."
   ]
  },
  {
   "cell_type": "code",
   "execution_count": null,
   "id": "82b4fb43",
   "metadata": {},
   "outputs": [],
   "source": [
    "product_name = input('Introduce el nombre del producto:')\n",
    "product_price = float(input('Introduce el precio del producto:'))\n",
    "product_count = int(input('Introduce el número de unidades:'))\n",
    "print(f'El producto {product_name} tiene un precio unitario de: {product_price:09.2f}€. Hay {product_count:03d} unidad/es y el coste total es de: {product_price * product_count:011.2f}€')"
   ]
  }
 ],
 "metadata": {
  "kernelspec": {
   "display_name": "Python 3 (ipykernel)",
   "language": "python",
   "name": "python3"
  },
  "language_info": {
   "codemirror_mode": {
    "name": "ipython",
    "version": 3
   },
   "file_extension": ".py",
   "mimetype": "text/x-python",
   "name": "python",
   "nbconvert_exporter": "python",
   "pygments_lexer": "ipython3",
   "version": "3.11.4"
  }
 },
 "nbformat": 4,
 "nbformat_minor": 5
}
