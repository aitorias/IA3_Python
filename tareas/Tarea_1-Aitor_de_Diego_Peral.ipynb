{
 "cells": [
  {
   "cell_type": "markdown",
   "id": "eeeebd95",
   "metadata": {},
   "source": [
    "# Ejercicios de Tipos de Datos Simples"
   ]
  },
  {
   "cell_type": "markdown",
   "id": "0ffd9746",
   "metadata": {},
   "source": [
    "## Ejercicio 1"
   ]
  },
  {
   "cell_type": "markdown",
   "id": "2f4c6d00",
   "metadata": {},
   "source": [
    "Escribir un programa que muestre por pantalla la cadena ¡Hola Mundo!."
   ]
  },
  {
   "cell_type": "code",
   "execution_count": null,
   "id": "241a8f6a",
   "metadata": {},
   "outputs": [],
   "source": [
    "'¡Hola Mundo!'"
   ]
  },
  {
   "cell_type": "markdown",
   "id": "ece5b0eb",
   "metadata": {},
   "source": [
    "## Ejercicio 2"
   ]
  },
  {
   "cell_type": "markdown",
   "id": "4781ac4e",
   "metadata": {},
   "source": [
    "Escribir un programa que almacene la cadena ¡Hola Mundo! en una variable y luego \n",
    "muestre por pantalla el contenido de la variable"
   ]
  },
  {
   "cell_type": "code",
   "execution_count": null,
   "id": "489edc5b",
   "metadata": {},
   "outputs": [],
   "source": [
    "variable = '¡Hola Mundo!'\n",
    "print(variable)"
   ]
  },
  {
   "cell_type": "markdown",
   "id": "e03ea510",
   "metadata": {},
   "source": [
    "## Ejercicio 3"
   ]
  },
  {
   "cell_type": "markdown",
   "id": "c07787d1",
   "metadata": {},
   "source": [
    "Escribir un programa que pregunte el nombre del usuario en la consola y después de \n",
    "que el usuario lo introduzca muestre por pantalla la cadena ¡Hola \\<nombre\\>!, \n",
    "donde \\<nombre\\> es el nombre que el usuario haya introducido.\n"
   ]
  },
  {
   "cell_type": "code",
   "execution_count": null,
   "id": "3928f3bd",
   "metadata": {},
   "outputs": [],
   "source": [
    "user_name = input('¿Cuál es tu nombre? ')\n",
    "print(f'¡Hola {user_name}!')"
   ]
  },
  {
   "cell_type": "markdown",
   "id": "ef6d6d84",
   "metadata": {},
   "source": [
    "## Ejercicio 4"
   ]
  },
  {
   "cell_type": "markdown",
   "id": "c1490010",
   "metadata": {},
   "source": [
    "Escribir un programa que muestre por pantalla el resultado de la siguiente operación \n",
    "aritmética (3+2/(2*5))**2"
   ]
  },
  {
   "cell_type": "code",
   "execution_count": null,
   "id": "ab395264",
   "metadata": {},
   "outputs": [],
   "source": [
    "result = (3+2/(2*5))**2\n",
    "print(result)"
   ]
  },
  {
   "cell_type": "markdown",
   "id": "63629c29",
   "metadata": {},
   "source": [
    "## Ejercicio 5"
   ]
  },
  {
   "cell_type": "markdown",
   "id": "ea02a396",
   "metadata": {},
   "source": [
    "Escribir un programa que pregunte al usuario por el número de horas trabajadas y el \n",
    "coste por hora. Después debe mostrar por pantalla la paga que le corresponde."
   ]
  },
  {
   "cell_type": "code",
   "execution_count": null,
   "id": "c35a915a",
   "metadata": {},
   "outputs": [],
   "source": [
    "hours_worked = float(input('¿Cuántas horas has trabajado? '))\n",
    "hour_cost = float(input('¿Cuál es el coste por hora trabajada? '))\n",
    "print(f'La paga que te corresponde es de {hours_worked * hour_cost}€')"
   ]
  },
  {
   "cell_type": "markdown",
   "id": "768ba43f",
   "metadata": {},
   "source": [
    "## Ejercicio 6"
   ]
  },
  {
   "cell_type": "markdown",
   "id": "a94ac8a7",
   "metadata": {},
   "source": [
    "Escribir un programa que lea un entero positivo, n, introducido por el usuario y \n",
    "después muestre en pantalla la suma de todos los enteros desde 1 hasta n. La suma de \n",
    "los n primeros enteros positivos puede ser calculada de la siguiente forma:\n",
    "\n",
    "suma = (n*(n+1))/2"
   ]
  },
  {
   "cell_type": "code",
   "execution_count": null,
   "id": "dcd22ca8",
   "metadata": {},
   "outputs": [],
   "source": [
    "n = abs(int(input('Introduce un número entero positivo: ')))\n",
    "print(f'La suma de todos los números enteros desde 1 hasta {n} es {n * (n + 1) // 2}')"
   ]
  },
  {
   "cell_type": "markdown",
   "id": "d5b2a2e4",
   "metadata": {},
   "source": [
    "## Ejercicio 7"
   ]
  },
  {
   "cell_type": "markdown",
   "id": "bb4d02b8",
   "metadata": {},
   "source": [
    "Escribir un programa que pida al usuario su peso (en kg) y estatura (en metros), calcule \n",
    "el índice de masa corporal y lo almacene en una variable, y muestre por pantalla la \n",
    "frase Tu índice de masa corporal es \\<imc\\> donde \\<imc\\> es el índice de masa corporal \n",
    "calculado redondeado con dos decimales"
   ]
  },
  {
   "cell_type": "code",
   "execution_count": null,
   "id": "cf14253e",
   "metadata": {},
   "outputs": [],
   "source": [
    "user_weight = float(input('Introduce tu peso en quilogramos: '))\n",
    "user_height = float(input('Introduce tu altura en metros: '))\n",
    "imc = round(user_weight / user_height ** 2, 2)\n",
    "print(f'Tu índice de masa corporal es {imc}')"
   ]
  },
  {
   "cell_type": "markdown",
   "id": "6ded6856",
   "metadata": {},
   "source": [
    "## Ejercicio 8"
   ]
  },
  {
   "cell_type": "markdown",
   "id": "e367ff87",
   "metadata": {},
   "source": [
    "Escribir un programa que pida al usuario dos números enteros y muestre por pantalla \n",
    "la \\<n\\> entre \\<m\\> da un cociente \\<c\\> y un resto \\<r\\> donde \\<n\\> y \\<m\\> son los números \n",
    "introducidos por el usuario, y \\<c\\> y \\<r\\> son el cociente y el resto de la división entera \n",
    "respectivamente."
   ]
  },
  {
   "cell_type": "code",
   "execution_count": null,
   "id": "64ede092",
   "metadata": {},
   "outputs": [],
   "source": [
    "n = int(input('Dime un número entero: '))\n",
    "m = int(input('Dime otro número entero: '))\n",
    "cociente = n // m\n",
    "resto = n % m\n",
    "print(f'{n} entre {m} da un cociente de {cociente} y un resto de {resto}')"
   ]
  },
  {
   "cell_type": "markdown",
   "id": "5a3667b4",
   "metadata": {},
   "source": [
    "## Ejercicio 9"
   ]
  },
  {
   "cell_type": "markdown",
   "id": "14f64ea9",
   "metadata": {},
   "source": [
    "Escribir un programa que pregunte al usuario una cantidad a invertir, el interés anual y \n",
    "el número de años, y muestre por pantalla el capital obtenido en la inversión."
   ]
  },
  {
   "cell_type": "code",
   "execution_count": null,
   "id": "d74a67e7",
   "metadata": {},
   "outputs": [],
   "source": [
    "user_amount_to_invest = float(input('Introduce la cantidad a invertir: '))\n",
    "user_annual_interest = float(input('Introduce el interés anual: '))\n",
    "user_years = int(input('Introduce el número de años:'))\n",
    "print(f'El capital obtenido en la inversión es \\\n",
    "{round(user_amount_to_invest * (1 + (user_annual_interest / 100)) ** user_years, 2)}€')"
   ]
  },
  {
   "cell_type": "markdown",
   "id": "1850e362",
   "metadata": {},
   "source": [
    "## Ejercicio 10"
   ]
  },
  {
   "cell_type": "markdown",
   "id": "28bcb7b5",
   "metadata": {},
   "source": [
    "Una juguetería tiene mucho éxito en dos de sus productos: payasos y muñecas. Suele \n",
    "hacer venta por correo y la empresa de logística les cobra por peso de cada paquete \n",
    "así que deben calcular el peso de los payasos y muñecas que saldrán en cada paquete \n",
    "a demanda. Cada payaso pesa 112 g y cada muñeca 75 g. Escribir un programa que lea \n",
    "el número de payasos y muñecas vendidos en el último pedido y calcule el peso total \n",
    "del paquete que será enviado."
   ]
  },
  {
   "cell_type": "code",
   "execution_count": null,
   "id": "068280c8",
   "metadata": {},
   "outputs": [],
   "source": [
    "CLOWN_WEIGHT = 112\n",
    "DOLL_WEIGHT = 75\n",
    "order_clowns = int(input('¿Cuántos payasos se han vendido en el último pedido? '))\n",
    "order_dolls = int(input('¿Cuántas muñecas se han vendido en el último pedido? '))\n",
    "print(f'El peso total del paquete es: {(order_clowns * CLOWN_WEIGHT) + (order_dolls * DOLL_WEIGHT)} gramos')"
   ]
  },
  {
   "cell_type": "markdown",
   "id": "9c02746d",
   "metadata": {},
   "source": [
    "## Ejercicio 11"
   ]
  },
  {
   "cell_type": "markdown",
   "id": "0d7f0e52",
   "metadata": {},
   "source": [
    "Imagina que acabas de abrir una nueva cuenta de ahorros que te ofrece el 4% de \n",
    "interés al año. Estos ahorros debido a intereses, que no se cobran hasta finales de año, \n",
    "se te añaden al balance final de tu cuenta de ahorros. Escribir un programa que \n",
    "comience leyendo la cantidad de dinero depositada en la cuenta de ahorros, \n",
    "introducida por el usuario. Después el programa debe calcular y mostrar por pantalla la \n",
    "cantidad de ahorros tras el primer, segundo y tercer años. Redondear cada cantidad a \n",
    "dos decimales."
   ]
  },
  {
   "cell_type": "code",
   "execution_count": null,
   "id": "9d58075c",
   "metadata": {},
   "outputs": [],
   "source": [
    "ANNUAL_INTEREST = 4\n",
    "YEARS = 3\n",
    "user_earned_money = float(input('Introduce la cantidad de dinero depositada en la cuenta de ahorros: '))\n",
    "for year in range(YEARS):\n",
    "    print(f'La cantidad de ahorros durante el {year + 1} año es de: '\n",
    "          f'{round(user_earned_money * (1 + ANNUAL_INTEREST / 100) ** (year + 1), 2)}€')"
   ]
  },
  {
   "cell_type": "markdown",
   "id": "2d55328e",
   "metadata": {},
   "source": [
    "## Ejercicio 12"
   ]
  },
  {
   "cell_type": "markdown",
   "id": "5d329dd5",
   "metadata": {},
   "source": [
    "Una panadería vende barras de pan a 3.49€ cada una. El pan que no es el día tiene un \n",
    "descuento del 60%. Escribir un programa que comience leyendo el número de barras \n",
    "vendidas que no son del día. Después el programa debe mostrar el precio habitual de \n",
    "una barra de pan, el descuento que se le hace por no ser fresca y el coste final total."
   ]
  },
  {
   "cell_type": "code",
   "execution_count": null,
   "id": "05031307",
   "metadata": {},
   "outputs": [],
   "source": [
    "BREAD_COST = 3.49\n",
    "NOT_FRESH_BREAD_DISCOUNT = 60\n",
    "not_fresh_sold_breads = int(input('Introduce el número de barras de pan vendidas que NO son del día: '))\n",
    "print(f'El precio habitual de una barra de pan es {BREAD_COST}€.\\n'\n",
    "      f'Si la barra no es del día se le aplica un {NOT_FRESH_BREAD_DISCOUNT}% de descuento.\\n'\n",
    "      f'El coste final de es de: {round(not_fresh_sold_breads * BREAD_COST * (100 - NOT_FRESH_BREAD_DISCOUNT) / 100, 2)}€.')"
   ]
  }
 ],
 "metadata": {
  "kernelspec": {
   "display_name": "Python 3 (ipykernel)",
   "language": "python",
   "name": "python3"
  },
  "language_info": {
   "codemirror_mode": {
    "name": "ipython",
    "version": 3
   },
   "file_extension": ".py",
   "mimetype": "text/x-python",
   "name": "python",
   "nbconvert_exporter": "python",
   "pygments_lexer": "ipython3",
   "version": "3.11.4"
  }
 },
 "nbformat": 4,
 "nbformat_minor": 5
}
